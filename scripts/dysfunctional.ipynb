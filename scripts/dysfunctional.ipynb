{
 "cells": [
  {
   "cell_type": "code",
   "execution_count": 1,
   "metadata": {},
   "outputs": [
    {
     "data": {
      "text/plain": [
       "(600,)"
      ]
     },
     "execution_count": 1,
     "metadata": {},
     "output_type": "execute_result"
    }
   ],
   "source": [
    "from simpleneighbors import SimpleNeighbors\n",
    "import spacy\n",
    "nlp = spacy.load('en_core_web_lg')\n",
    "filename = r\"C:\\conda\\dysfunctionalbott\\data\\jkj.txt\"\n",
    "cutoff = 500000\n",
    "\n",
    "doc = nlp(open(filename).read()[:cutoff], \n",
    "         disable=['tagger'])\n",
    "\n",
    "import numpy as np\n",
    "\n",
    "def concatenate_vectors(seq):\n",
    "    return np.concatenate(np.array([w.vector for w in seq]), axis=0)\n",
    "\n",
    "\n",
    "concatenate_vectors(nlp(\"hello there\")).shape\n",
    "\n",
    "\n",
    "\n",
    "\n",
    "\n"
   ]
  },
  {
   "cell_type": "code",
   "execution_count": 2,
   "metadata": {},
   "outputs": [],
   "source": [
    "n = 3\n",
    "nns = SimpleNeighbors(n*300)\n",
    "for seq in doc.sents:\n",
    "    seq = [item for item in seq if item.is_alpha]\n",
    "    for i in range(len(seq)-n):\n",
    "        mean = concatenate_vectors(seq[i:i+n])\n",
    "        next_item = seq[i+n].text\n",
    "        nns.add_one(next_item, mean)\n",
    "nns.build()"
   ]
  },
  {
   "cell_type": "code",
   "execution_count": 3,
   "metadata": {},
   "outputs": [
    {
     "ename": "NameError",
     "evalue": "name 'vec' is not defined",
     "output_type": "error",
     "traceback": [
      "\u001b[1;31m---------------------------------------------------------------------------\u001b[0m",
      "\u001b[1;31mNameError\u001b[0m                                 Traceback (most recent call last)",
      "\u001b[1;32m<ipython-input-3-5273a1e3bf29>\u001b[0m in \u001b[0;36m<module>\u001b[1;34m\u001b[0m\n\u001b[0;32m      1\u001b[0m \u001b[1;32mimport\u001b[0m \u001b[0mrandom\u001b[0m\u001b[1;33m\u001b[0m\u001b[1;33m\u001b[0m\u001b[0m\n\u001b[0;32m      2\u001b[0m \u001b[0mrandom\u001b[0m\u001b[1;33m.\u001b[0m\u001b[0mrandint\u001b[0m\u001b[1;33m(\u001b[0m\u001b[1;36m1\u001b[0m\u001b[1;33m,\u001b[0m\u001b[1;36m101\u001b[0m\u001b[1;33m)\u001b[0m\u001b[1;33m\u001b[0m\u001b[1;33m\u001b[0m\u001b[0m\n\u001b[1;32m----> 3\u001b[1;33m \u001b[0mrandom\u001b[0m\u001b[1;33m.\u001b[0m\u001b[0mrandint\u001b[0m\u001b[1;33m(\u001b[0m\u001b[1;36m0\u001b[0m\u001b[1;33m,\u001b[0m\u001b[0mlen\u001b[0m\u001b[1;33m(\u001b[0m\u001b[0mvec\u001b[0m\u001b[1;33m)\u001b[0m\u001b[1;33m)\u001b[0m\u001b[1;33m\u001b[0m\u001b[1;33m\u001b[0m\u001b[0m\n\u001b[0m",
      "\u001b[1;31mNameError\u001b[0m: name 'vec' is not defined"
     ]
    }
   ],
   "source": [
    "import random\n",
    "random.randint(1,101)\n",
    "random.randint(0,len(vec))"
   ]
  },
  {
   "cell_type": "code",
   "execution_count": 10,
   "metadata": {},
   "outputs": [],
   "source": [
    "tagger = spacy.load('en_core_web_sm')"
   ]
  },
  {
   "cell_type": "code",
   "execution_count": 4,
   "metadata": {},
   "outputs": [],
   "source": [
    "count_sentenses = 0\n",
    "    \n",
    "starts = [\"I have never\",\n",
    "          'I am a'\n",
    "          ,'We have come'\n",
    "          ,'Needless to say'\n",
    "          ,'Under international law'\n",
    "          ,'I frankly don\\’t'\n",
    "          ,'These are banana'\n",
    "         ,'You can see'\n",
    "         ,'I truly enjoyed'\n",
    "         ,'Safe to come'\n",
    "         ,'I\\’m pleased to'\n",
    "         ,'Everything functioned exactly'\n",
    "         ,'Fortunately the officials'\n",
    "         ,'Most nations opted'\n",
    "         ,'The most impressive']\n",
    "\n",
    "\n",
    "\n"
   ]
  },
  {
   "cell_type": "code",
   "execution_count": 7,
   "metadata": {},
   "outputs": [],
   "source": [
    "start=''\n",
    "new_text=''"
   ]
  },
  {
   "cell_type": "code",
   "execution_count": 8,
   "metadata": {},
   "outputs": [],
   "source": [
    "start = starts[count_sentenses]\n",
    "new_text += start"
   ]
  },
  {
   "cell_type": "code",
   "execution_count": 11,
   "metadata": {},
   "outputs": [],
   "source": [
    "while count_sentenses < 14:\n",
    "    vec = nns.nearest(concatenate_vectors(nlp(start)))\n",
    "    ix=random.randint(0,len(vec)-1)\n",
    "    \n",
    "    start = start + ' ' + vec[ix]\n",
    "    start = ' '.join(start.split()[-3:])\n",
    "    \n",
    "    new_text +=  (' ' + vec[ix])\n",
    "\n",
    "    word = tagger(vec[ix])\n",
    "\n",
    "    pos = [str(p.pos_) for p in word]\n",
    "    if 'NOUN' in pos:\n",
    "        count_sentenses += 1\n",
    "        start = starts[count_sentenses]\n",
    "        new_text += ('. ' +start)\n"
   ]
  },
  {
   "cell_type": "code",
   "execution_count": 12,
   "metadata": {},
   "outputs": [
    {
     "data": {
      "text/plain": [
       "'I have never noticed of them fore of it girl. I am a to give a better deal. We have come by the time. Needless to say us up of a party. Under international law on what was the advantage. I frankly don\\\\’t not to guide. These are banana empty and dessert. You can see it and they call all up on the bed. I truly enjoyed I crave. Safe to come an an Roman. I\\\\’m pleased to sniff. Everything functioned exactly had started the or not we attached overworked and stout head. Fortunately the officials of us can to be pushed overboard he grew sinned some of those subjects. Most nations opted understand want were finding it because do bring want it pleases they get dirty at Sonning. The most impressive'"
      ]
     },
     "execution_count": 12,
     "metadata": {},
     "output_type": "execute_result"
    }
   ],
   "source": [
    "new_text"
   ]
  },
  {
   "cell_type": "code",
   "execution_count": null,
   "metadata": {},
   "outputs": [],
   "source": []
  },
  {
   "cell_type": "code",
   "execution_count": null,
   "metadata": {},
   "outputs": [],
   "source": []
  },
  {
   "cell_type": "code",
   "execution_count": null,
   "metadata": {},
   "outputs": [],
   "source": []
  }
 ],
 "metadata": {
  "kernelspec": {
   "display_name": "Python 3",
   "language": "python",
   "name": "python3"
  },
  "language_info": {
   "codemirror_mode": {
    "name": "ipython",
    "version": 3
   },
   "file_extension": ".py",
   "mimetype": "text/x-python",
   "name": "python",
   "nbconvert_exporter": "python",
   "pygments_lexer": "ipython3",
   "version": "3.7.3"
  }
 },
 "nbformat": 4,
 "nbformat_minor": 2
}
