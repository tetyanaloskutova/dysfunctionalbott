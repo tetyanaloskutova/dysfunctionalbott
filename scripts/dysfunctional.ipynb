{
 "cells": [
  {
   "cell_type": "code",
   "execution_count": 1,
   "metadata": {},
   "outputs": [
    {
     "data": {
      "text/plain": [
       "(600,)"
      ]
     },
     "execution_count": 1,
     "metadata": {},
     "output_type": "execute_result"
    }
   ],
   "source": [
    "from simpleneighbors import SimpleNeighbors\n",
    "import spacy\n",
    "nlp = spacy.load('en_core_web_lg')\n",
    "filename = r\"C:\\conda\\dysfunctionalbott\\data\\jkj.txt\"\n",
    "cutoff = 500000\n",
    "\n",
    "doc = nlp(open(filename).read()[:cutoff], \n",
    "         disable=['tagger'])\n",
    "\n",
    "import numpy as np\n",
    "\n",
    "def concatenate_vectors(seq):\n",
    "    return np.concatenate(np.array([w.vector for w in seq]), axis=0)\n",
    "\n",
    "\n",
    "concatenate_vectors(nlp(\"hello there\")).shape\n",
    "\n",
    "\n",
    "\n",
    "\n",
    "\n"
   ]
  },
  {
   "cell_type": "code",
   "execution_count": 8,
   "metadata": {},
   "outputs": [],
   "source": [
    "n = 3\n",
    "nns = SimpleNeighbors(n*300)\n",
    "for seq in doc.sents:\n",
    "    seq = [item for item in seq if item.is_alpha]\n",
    "    for i in range(len(seq)-n):\n",
    "        mean = concatenate_vectors(seq[i:i+n])\n",
    "        next_item = seq[i+n].text\n",
    "        nns.add_one(next_item, mean)\n",
    "nns.build()"
   ]
  },
  {
   "cell_type": "code",
   "execution_count": 9,
   "metadata": {},
   "outputs": [
    {
     "ename": "NameError",
     "evalue": "name 'vec' is not defined",
     "output_type": "error",
     "traceback": [
      "\u001b[1;31m---------------------------------------------------------------------------\u001b[0m",
      "\u001b[1;31mNameError\u001b[0m                                 Traceback (most recent call last)",
      "\u001b[1;32m<ipython-input-9-5273a1e3bf29>\u001b[0m in \u001b[0;36m<module>\u001b[1;34m\u001b[0m\n\u001b[0;32m      1\u001b[0m \u001b[1;32mimport\u001b[0m \u001b[0mrandom\u001b[0m\u001b[1;33m\u001b[0m\u001b[1;33m\u001b[0m\u001b[0m\n\u001b[0;32m      2\u001b[0m \u001b[0mrandom\u001b[0m\u001b[1;33m.\u001b[0m\u001b[0mrandint\u001b[0m\u001b[1;33m(\u001b[0m\u001b[1;36m1\u001b[0m\u001b[1;33m,\u001b[0m\u001b[1;36m101\u001b[0m\u001b[1;33m)\u001b[0m\u001b[1;33m\u001b[0m\u001b[1;33m\u001b[0m\u001b[0m\n\u001b[1;32m----> 3\u001b[1;33m \u001b[0mrandom\u001b[0m\u001b[1;33m.\u001b[0m\u001b[0mrandint\u001b[0m\u001b[1;33m(\u001b[0m\u001b[1;36m0\u001b[0m\u001b[1;33m,\u001b[0m\u001b[0mlen\u001b[0m\u001b[1;33m(\u001b[0m\u001b[0mvec\u001b[0m\u001b[1;33m)\u001b[0m\u001b[1;33m)\u001b[0m\u001b[1;33m\u001b[0m\u001b[1;33m\u001b[0m\u001b[0m\n\u001b[0m",
      "\u001b[1;31mNameError\u001b[0m: name 'vec' is not defined"
     ]
    }
   ],
   "source": [
    "import random\n",
    "random.randint(1,101)\n",
    "random.randint(0,len(vec))"
   ]
  },
  {
   "cell_type": "code",
   "execution_count": 6,
   "metadata": {},
   "outputs": [],
   "source": [
    "tagger = spacy.load('en_core_web_sm')"
   ]
  },
  {
   "cell_type": "code",
   "execution_count": 12,
   "metadata": {},
   "outputs": [],
   "source": [
    "count_sentenses = 0\n",
    "    \n",
    "starts = [\"I have never\",\n",
    "          'I am a'\n",
    "          ,'We have come'\n",
    "          ,'Needless to say'\n",
    "          ,'Under international law'\n",
    "          ,'I frankly don\\’t'\n",
    "          ,'These are banana'\n",
    "         ,'You can see'\n",
    "         ,'I truly enjoyed'\n",
    "         ,'Safe to come'\n",
    "         ,'I\\’m pleased to'\n",
    "         ,'Everything functioned exactly'\n",
    "         ,'Fortunately the officials'\n",
    "         ,'Most nations opted'\n",
    "         ,'The most impressive']\n",
    "\n",
    "\n",
    "\n"
   ]
  },
  {
   "cell_type": "code",
   "execution_count": 13,
   "metadata": {},
   "outputs": [],
   "source": [
    "start=''\n",
    "new_text=''"
   ]
  },
  {
   "cell_type": "code",
   "execution_count": 14,
   "metadata": {},
   "outputs": [],
   "source": [
    "start = starts[count_sentenses]\n",
    "new_text += start"
   ]
  },
  {
   "cell_type": "code",
   "execution_count": 15,
   "metadata": {},
   "outputs": [],
   "source": [
    "while count_sentenses < 14:\n",
    "    vec = nns.nearest(concatenate_vectors(nlp(start)))\n",
    "    ix=random.randint(0,len(vec)-1)\n",
    "    \n",
    "    start = start + ' ' + vec[ix]\n",
    "    start = ' '.join(start.split()[-3:])\n",
    "    \n",
    "    new_text +=  (' ' + vec[ix])\n",
    "\n",
    "    word = tagger(vec[ix])\n",
    "\n",
    "    pos = [str(p.pos_) for p in word]\n",
    "    if 'NOUN' in pos:\n",
    "        count_sentenses += 1\n",
    "        start = starts[count_sentenses]\n",
    "        new_text += ('. ' +start)\n"
   ]
  },
  {
   "cell_type": "code",
   "execution_count": 40,
   "metadata": {},
   "outputs": [
    {
     "data": {
      "text/plain": [
       "' I have never been nine people . I am a friend . We have come out well me to see it he would spare the friends . Needless to say of course . Under international law than a pint . I frankly don\\\\’t take people . These are banana of the houses . You can see them house . I truly enjoyed I can like it on the river . Safe to come back it two as having were in up all his pegs . I\\\\’m pleased to be done I did remember to hang here them round with the idea . Everything functioned exactly the matter . Fortunately the officials side . Most nations opted been asleep up under deck . The most impressive'"
      ]
     },
     "execution_count": 40,
     "metadata": {},
     "output_type": "execute_result"
    }
   ],
   "source": [
    "new_text_1"
   ]
  },
  {
   "cell_type": "code",
   "execution_count": 28,
   "metadata": {},
   "outputs": [
    {
     "data": {
      "text/plain": [
       "'I have never been nine people. I am a friend. We have come out well me to see it he would spare the friends. Needless to say of course. Under international law than a pint. I frankly don\\\\’t take people. These are banana of the houses. You can see them house. I truly enjoyed I can like it on the river. Safe to come back it two as having were in up all his pegs. I\\\\’m pleased to be done I did remember to hang here them round with the idea. Everything functioned exactly the matter. Fortunately the officials side. Most nations opted been asleep up under deck. The most impressive'"
      ]
     },
     "execution_count": 28,
     "metadata": {},
     "output_type": "execute_result"
    }
   ],
   "source": [
    "new_text"
   ]
  },
  {
   "cell_type": "markdown",
   "metadata": {},
   "source": [
    "## Correct the sentences"
   ]
  },
  {
   "cell_type": "code",
   "execution_count": 17,
   "metadata": {},
   "outputs": [],
   "source": [
    "from spacy import displacy\n"
   ]
  },
  {
   "cell_type": "code",
   "execution_count": 29,
   "metadata": {},
   "outputs": [],
   "source": [
    "new_text_tokened = tagger(new_text)"
   ]
  },
  {
   "cell_type": "code",
   "execution_count": 23,
   "metadata": {},
   "outputs": [
    {
     "name": "stdout",
     "output_type": "stream",
     "text": [
      "I nsubj X True True\n",
      "have aux xxxx True True\n",
      "never neg xxxx True True\n",
      "noticed ROOT xxxx True False\n",
      "of prep xx True True\n",
      "them pobj xxxx True True\n",
      "fore npadvmod xxxx True False\n",
      "of prep xx True True\n",
      "it pobj xx True True\n",
      "girl npadvmod xxxx True False\n",
      ". punct . False False\n",
      "I nsubj X True True\n",
      "am ROOT xx True True\n",
      "a attr x True True\n",
      "to aux xx True True\n",
      "give relcl xxxx True True\n",
      "a det x True True\n",
      "better amod xxxx True False\n",
      "deal dobj xxxx True False\n",
      ". punct . False False\n",
      "We nsubj Xx True True\n",
      "have aux xxxx True True\n",
      "come ROOT xxxx True False\n",
      "by prep xx True True\n",
      "the det xxx True True\n",
      "time pobj xxxx True False\n",
      ". punct . False False\n",
      "Needless ROOT Xxxxx True False\n",
      "to aux xx True True\n",
      "say xcomp xxx True True\n",
      "us dobj xx True True\n",
      "up prep xx True True\n",
      "of prep xx True True\n",
      "a det x True True\n",
      "party pobj xxxx True False\n",
      ". punct . False False\n",
      "Under ROOT Xxxxx True True\n",
      "international amod xxxx True False\n",
      "law pobj xxx True False\n",
      "on prep xx True True\n",
      "what nsubj xxxx True True\n",
      "was pcomp xxx True True\n",
      "the det xxx True True\n",
      "advantage attr xxxx True False\n",
      ". punct . False False\n",
      "I nsubj X True True\n",
      "frankly advmod xxxx True False\n",
      "don\\’t ROOT xxx\\’x False False\n",
      "not neg xxx True True\n",
      "to aux xx True True\n",
      "guide xcomp xxxx True False\n",
      ". punct . False False\n",
      "These nsubj Xxxxx True True\n",
      "are ROOT xxx True True\n",
      "banana npadvmod xxxx True False\n",
      "empty acomp xxxx True True\n",
      "and cc xxx True True\n",
      "dessert conj xxxx True False\n",
      ". punct . False False\n",
      "You nsubj Xxx True True\n",
      "can aux xxx True True\n",
      "see ROOT xxx True True\n",
      "it dobj xx True True\n",
      "and cc xxx True True\n",
      "they nsubj xxxx True True\n",
      "call conj xxxx True True\n",
      "all dobj xxx True True\n",
      "up prt xx True True\n",
      "on prep xx True True\n",
      "the det xxx True True\n",
      "bed pobj xxx True False\n",
      ". punct . False False\n",
      "I nsubj X True True\n",
      "truly advmod xxxx True False\n",
      "enjoyed ROOT xxxx True False\n",
      "I nsubj X True True\n",
      "crave ccomp xxxx True False\n",
      ". punct . False False\n",
      "Safe ROOT Xxxx True False\n",
      "to aux xx True True\n",
      "come xcomp xxxx True False\n",
      "an det xx True True\n",
      "an det xx True True\n",
      "Roman dobj Xxxxx True False\n",
      ". punct . False False\n",
      "I\\’m nsubj X\\’x False False\n",
      "pleased ROOT xxxx True False\n",
      "to aux xx True True\n",
      "sniff xcomp xxxx True False\n",
      ". punct . False False\n",
      "Everything nsubj Xxxxx True True\n",
      "functioned ROOT xxxx True False\n",
      "exactly advmod xxxx True False\n",
      "had aux xxx True True\n",
      "started advcl xxxx True False\n",
      "the dobj xxx True True\n",
      "or cc xx True True\n",
      "not neg xxx True True\n",
      "we nsubj xx True True\n",
      "attached conj xxxx True False\n",
      "overworked amod xxxx True False\n",
      "and cc xxx True True\n",
      "stout conj xxxx True False\n",
      "head dobj xxxx True False\n",
      ". punct . False False\n",
      "Fortunately advmod Xxxxx True False\n",
      "the det xxx True True\n",
      "officials nsubj xxxx True False\n",
      "of prep xx True True\n",
      "us pobj xx True True\n",
      "can ROOT xxx True True\n",
      "to aux xx True True\n",
      "be auxpass xx True True\n",
      "pushed xcomp xxxx True False\n",
      "overboard advmod xxxx True False\n",
      "he nsubj xx True True\n",
      "grew ROOT xxxx True False\n",
      "sinned advcl xxxx True False\n",
      "some dobj xxxx True True\n",
      "of prep xx True True\n",
      "those det xxxx True True\n",
      "subjects pobj xxxx True False\n",
      ". punct . False False\n",
      "Most amod Xxxx True True\n",
      "nations nsubj xxxx True False\n",
      "opted csubj xxxx True False\n",
      "understand dobj xxxx True False\n",
      "want xcomp xxxx True False\n",
      "were aux xxxx True True\n",
      "finding ROOT xxxx True False\n",
      "it dobj xx True True\n",
      "because mark xxxx True True\n",
      "do aux xx True True\n",
      "bring advcl xxxx True False\n",
      "want dep xxxx True False\n",
      "it nsubj xx True True\n",
      "pleases ccomp xxxx True False\n",
      "they nsubj xxxx True True\n",
      "get ccomp xxx True True\n",
      "dirty acomp xxxx True False\n",
      "at prep xx True True\n",
      "Sonning pobj Xxxxx True False\n",
      ". punct . False False\n",
      "The det Xxx True True\n",
      "most advmod xxxx True True\n",
      "impressive ROOT xxxx True False\n"
     ]
    }
   ],
   "source": [
    "for sent in new_text_tokened.doc.sents:\n",
    "    sent = tagger(sent.text)\n",
    "    #displacy.serve(sent, style=\"dep\")\n",
    "    for token in sent.doc:\n",
    "        print(token.text, token.dep_,\n",
    "            token.shape_, token.is_alpha, token.is_stop)"
   ]
  },
  {
   "cell_type": "code",
   "execution_count": null,
   "metadata": {},
   "outputs": [],
   "source": [
    "for token in doc:\n",
    "    print(token.text, token.lemma_, token.pos_, token.tag_, token.dep_,\n",
    "            token.shape_, token.is_alpha, token.is_stop)"
   ]
  },
  {
   "cell_type": "markdown",
   "metadata": {},
   "source": [
    "### Do not allow of the same in a row - did not work"
   ]
  },
  {
   "cell_type": "code",
   "execution_count": null,
   "metadata": {},
   "outputs": [],
   "source": [
    "spacy"
   ]
  },
  {
   "cell_type": "code",
   "execution_count": null,
   "metadata": {},
   "outputs": [],
   "source": [
    "allowed = ['aux','aux','neg','neg',]"
   ]
  },
  {
   "cell_type": "code",
   "execution_count": null,
   "metadata": {},
   "outputs": [],
   "source": [
    "allowed_in_sentence = ['nsubj','ROOT']"
   ]
  },
  {
   "cell_type": "code",
   "execution_count": 36,
   "metadata": {},
   "outputs": [],
   "source": [
    "#skip this if happens twice in a row\n",
    "inarow_sents ={'det':0,'prep':0,'advcl':0}"
   ]
  },
  {
   "cell_type": "code",
   "execution_count": 37,
   "metadata": {},
   "outputs": [],
   "source": [
    "#stop sentence if these start appearing 2nd time\n",
    "stop_sents ={'pobj':0,'dobj':0,'advcl':0,'npadvmod':0}"
   ]
  },
  {
   "cell_type": "code",
   "execution_count": 30,
   "metadata": {},
   "outputs": [],
   "source": [
    "required_sents ={'nsubj':0,'ROOT':0}"
   ]
  },
  {
   "cell_type": "code",
   "execution_count": 37,
   "metadata": {},
   "outputs": [],
   "source": [
    "new_text_1 = ''"
   ]
  },
  {
   "cell_type": "code",
   "execution_count": 38,
   "metadata": {},
   "outputs": [
    {
     "name": "stdout",
     "output_type": "stream",
     "text": [
      "I nsubj X True True\n",
      "have aux xxxx True True\n",
      "never neg xxxx True True\n",
      "been ROOT xxxx True True\n",
      "nine nummod xxxx True True\n",
      "people attr xxxx True False\n",
      ". punct . False False\n",
      "I nsubj X True True\n",
      "am ROOT xx True True\n",
      "a det x True True\n",
      "friend attr xxxx True False\n",
      ". punct . False False\n",
      "We nsubj Xx True True\n",
      "have aux xxxx True True\n",
      "come ROOT xxxx True False\n",
      "out prt xxx True True\n",
      "well advmod xxxx True True\n",
      "me nsubj xx True True\n",
      "to aux xx True True\n",
      "see ccomp xxx True True\n",
      "it dobj xx True True\n",
      "he nsubj xx True True\n",
      "would aux xxxx True True\n",
      "spare ccomp xxxx True False\n",
      "the det xxx True True\n",
      "friends dobj xxxx True False\n",
      ". punct . False False\n",
      "Needless ROOT Xxxxx True False\n",
      "to aux xx True True\n",
      "say xcomp xxx True True\n",
      "of prep xx True True\n",
      "course pobj xxxx True False\n",
      ". punct . False False\n",
      "Under ROOT Xxxxx True True\n",
      "international amod xxxx True False\n",
      "law pobj xxx True False\n",
      "than prep xxxx True True\n",
      "a det x True True\n",
      "pint pobj xxxx True False\n",
      ". punct . False False\n",
      "I nsubj X True True\n",
      "frankly advmod xxxx True False\n",
      "don\\’t intj xxx\\’x False False\n",
      "take ROOT xxxx True True\n",
      "people dobj xxxx True False\n",
      ". punct . False False\n",
      "These nsubj Xxxxx True True\n",
      "are ROOT xxx True True\n",
      "banana attr xxxx True False\n",
      "of prep xx True True\n",
      "the det xxx True True\n",
      "houses pobj xxxx True False\n",
      ". punct . False False\n",
      "You nsubj Xxx True True\n",
      "can aux xxx True True\n",
      "see ROOT xxx True True\n",
      "them nsubj xxxx True True\n",
      "house ccomp xxxx True False\n",
      ". punct . False False\n",
      "I nsubj X True True\n",
      "truly advmod xxxx True False\n",
      "enjoyed ROOT xxxx True False\n",
      "I nsubj X True True\n",
      "can aux xxx True True\n",
      "like ccomp xxxx True False\n",
      "it dobj xx True True\n",
      "on prep xx True True\n",
      "the det xxx True True\n",
      "river pobj xxxx True False\n",
      ". punct . False False\n",
      "Safe ROOT Xxxx True False\n",
      "to aux xx True True\n",
      "come xcomp xxxx True False\n",
      "back advmod xxxx True True\n",
      "it dobj xx True True\n",
      "two npadvmod xxx True True\n",
      "as mark xx True True\n",
      "having aux xxxx True False\n",
      "were advcl xxxx True True\n",
      "in prep xx True True\n",
      "up pcomp xx True True\n",
      "all predet xxx True True\n",
      "his poss xxx True True\n",
      "pegs pobj xxxx True False\n",
      ". punct . False False\n",
      "I\\’m nsubj X\\’x False False\n",
      "pleased ccomp xxxx True False\n",
      "to aux xx True True\n",
      "be auxpass xx True True\n",
      "done xcomp xxxx True True\n",
      "I nsubj X True True\n",
      "did aux xxx True True\n",
      "remember ROOT xxxx True False\n",
      "to aux xx True True\n",
      "hang xcomp xxxx True False\n",
      "here advmod xxxx True True\n",
      "them nsubj xxxx True True\n",
      "round ccomp xxxx True False\n",
      "with prep xxxx True True\n",
      "the det xxx True True\n",
      "idea pobj xxxx True False\n",
      ". punct . False False\n",
      "Everything nsubj Xxxxx True True\n",
      "functioned ROOT xxxx True False\n",
      "exactly advmod xxxx True False\n",
      "the det xxx True True\n",
      "matter dobj xxxx True False\n",
      ". punct . False False\n",
      "Fortunately advmod Xxxxx True False\n",
      "the det xxx True True\n",
      "officials nsubj xxxx True False\n",
      "side ROOT xxxx True True\n",
      ". punct . False False\n",
      "Most amod Xxxx True True\n",
      "nations nsubj xxxx True False\n",
      "opted aux xxxx True False\n",
      "been ROOT xxxx True True\n",
      "asleep acomp xxxx True False\n",
      "up prt xx True True\n",
      "under prep xxxx True True\n",
      "deck pobj xxxx True False\n",
      ". punct . False False\n",
      "The det Xxx True True\n",
      "most advmod xxxx True True\n",
      "impressive ROOT xxxx True False\n"
     ]
    }
   ],
   "source": [
    "for sent in new_text_tokened.doc.sents:\n",
    "    sent = tagger(sent.text)\n",
    "    #\n",
    "    last_dep_ = ''\n",
    "    for token in sent.doc:\n",
    "        if last_dep_ == token.dep_:\n",
    "            if sum(required_sents.values()) > 2:\n",
    "                new_text_1 += '. '\n",
    "                break\n",
    "        last_dep_ = token.dep_           \n",
    "        new_text_1 += (' ' + token.text)\n",
    "        if token.dep_ in required_sents:\n",
    "            required_sents[token.dep_] += 1\n",
    "            \n",
    "                \n",
    "        print(token.text, token.dep_,\n",
    "            token.shape_, token.is_alpha, token.is_stop)"
   ]
  },
  {
   "cell_type": "code",
   "execution_count": 39,
   "metadata": {},
   "outputs": [
    {
     "data": {
      "text/plain": [
       "' I have never been nine people . I am a friend . We have come out well me to see it he would spare the friends . Needless to say of course . Under international law than a pint . I frankly don\\\\’t take people . These are banana of the houses . You can see them house . I truly enjoyed I can like it on the river . Safe to come back it two as having were in up all his pegs . I\\\\’m pleased to be done I did remember to hang here them round with the idea . Everything functioned exactly the matter . Fortunately the officials side . Most nations opted been asleep up under deck . The most impressive'"
      ]
     },
     "execution_count": 39,
     "metadata": {},
     "output_type": "execute_result"
    }
   ],
   "source": [
    "new_text_1"
   ]
  },
  {
   "cell_type": "markdown",
   "metadata": {},
   "source": [
    "## how does it look"
   ]
  },
  {
   "cell_type": "code",
   "execution_count": 45,
   "metadata": {},
   "outputs": [],
   "source": [
    "from itertools import islice, count\n"
   ]
  },
  {
   "cell_type": "code",
   "execution_count": 51,
   "metadata": {},
   "outputs": [
    {
     "data": {
      "text/html": [
       "<svg xmlns=\"http://www.w3.org/2000/svg\" xmlns:xlink=\"http://www.w3.org/1999/xlink\" xml:lang=\"en\" id=\"2ad49f1dcef74337b07bcea4dd700fda-0\" class=\"displacy\" width=\"2500\" height=\"487.0\" direction=\"ltr\" style=\"max-width: none; height: 487.0px; color: #000000; background: #ffffff; font-family: Arial; direction: ltr\">\n",
       "<text class=\"displacy-token\" fill=\"currentColor\" text-anchor=\"middle\" y=\"397.0\">\n",
       "    <tspan class=\"displacy-word\" fill=\"currentColor\" x=\"50\">We</tspan>\n",
       "    <tspan class=\"displacy-tag\" dy=\"2em\" fill=\"currentColor\" x=\"50\">PRON</tspan>\n",
       "</text>\n",
       "\n",
       "<text class=\"displacy-token\" fill=\"currentColor\" text-anchor=\"middle\" y=\"397.0\">\n",
       "    <tspan class=\"displacy-word\" fill=\"currentColor\" x=\"225\">have</tspan>\n",
       "    <tspan class=\"displacy-tag\" dy=\"2em\" fill=\"currentColor\" x=\"225\">VERB</tspan>\n",
       "</text>\n",
       "\n",
       "<text class=\"displacy-token\" fill=\"currentColor\" text-anchor=\"middle\" y=\"397.0\">\n",
       "    <tspan class=\"displacy-word\" fill=\"currentColor\" x=\"400\">come</tspan>\n",
       "    <tspan class=\"displacy-tag\" dy=\"2em\" fill=\"currentColor\" x=\"400\">VERB</tspan>\n",
       "</text>\n",
       "\n",
       "<text class=\"displacy-token\" fill=\"currentColor\" text-anchor=\"middle\" y=\"397.0\">\n",
       "    <tspan class=\"displacy-word\" fill=\"currentColor\" x=\"575\">out</tspan>\n",
       "    <tspan class=\"displacy-tag\" dy=\"2em\" fill=\"currentColor\" x=\"575\">PART</tspan>\n",
       "</text>\n",
       "\n",
       "<text class=\"displacy-token\" fill=\"currentColor\" text-anchor=\"middle\" y=\"397.0\">\n",
       "    <tspan class=\"displacy-word\" fill=\"currentColor\" x=\"750\">well</tspan>\n",
       "    <tspan class=\"displacy-tag\" dy=\"2em\" fill=\"currentColor\" x=\"750\">ADV</tspan>\n",
       "</text>\n",
       "\n",
       "<text class=\"displacy-token\" fill=\"currentColor\" text-anchor=\"middle\" y=\"397.0\">\n",
       "    <tspan class=\"displacy-word\" fill=\"currentColor\" x=\"925\">me</tspan>\n",
       "    <tspan class=\"displacy-tag\" dy=\"2em\" fill=\"currentColor\" x=\"925\">PRON</tspan>\n",
       "</text>\n",
       "\n",
       "<text class=\"displacy-token\" fill=\"currentColor\" text-anchor=\"middle\" y=\"397.0\">\n",
       "    <tspan class=\"displacy-word\" fill=\"currentColor\" x=\"1100\">to</tspan>\n",
       "    <tspan class=\"displacy-tag\" dy=\"2em\" fill=\"currentColor\" x=\"1100\">PART</tspan>\n",
       "</text>\n",
       "\n",
       "<text class=\"displacy-token\" fill=\"currentColor\" text-anchor=\"middle\" y=\"397.0\">\n",
       "    <tspan class=\"displacy-word\" fill=\"currentColor\" x=\"1275\">see</tspan>\n",
       "    <tspan class=\"displacy-tag\" dy=\"2em\" fill=\"currentColor\" x=\"1275\">VERB</tspan>\n",
       "</text>\n",
       "\n",
       "<text class=\"displacy-token\" fill=\"currentColor\" text-anchor=\"middle\" y=\"397.0\">\n",
       "    <tspan class=\"displacy-word\" fill=\"currentColor\" x=\"1450\">it</tspan>\n",
       "    <tspan class=\"displacy-tag\" dy=\"2em\" fill=\"currentColor\" x=\"1450\">PRON</tspan>\n",
       "</text>\n",
       "\n",
       "<text class=\"displacy-token\" fill=\"currentColor\" text-anchor=\"middle\" y=\"397.0\">\n",
       "    <tspan class=\"displacy-word\" fill=\"currentColor\" x=\"1625\">he</tspan>\n",
       "    <tspan class=\"displacy-tag\" dy=\"2em\" fill=\"currentColor\" x=\"1625\">PRON</tspan>\n",
       "</text>\n",
       "\n",
       "<text class=\"displacy-token\" fill=\"currentColor\" text-anchor=\"middle\" y=\"397.0\">\n",
       "    <tspan class=\"displacy-word\" fill=\"currentColor\" x=\"1800\">would</tspan>\n",
       "    <tspan class=\"displacy-tag\" dy=\"2em\" fill=\"currentColor\" x=\"1800\">VERB</tspan>\n",
       "</text>\n",
       "\n",
       "<text class=\"displacy-token\" fill=\"currentColor\" text-anchor=\"middle\" y=\"397.0\">\n",
       "    <tspan class=\"displacy-word\" fill=\"currentColor\" x=\"1975\">spare</tspan>\n",
       "    <tspan class=\"displacy-tag\" dy=\"2em\" fill=\"currentColor\" x=\"1975\">VERB</tspan>\n",
       "</text>\n",
       "\n",
       "<text class=\"displacy-token\" fill=\"currentColor\" text-anchor=\"middle\" y=\"397.0\">\n",
       "    <tspan class=\"displacy-word\" fill=\"currentColor\" x=\"2150\">the</tspan>\n",
       "    <tspan class=\"displacy-tag\" dy=\"2em\" fill=\"currentColor\" x=\"2150\">DET</tspan>\n",
       "</text>\n",
       "\n",
       "<text class=\"displacy-token\" fill=\"currentColor\" text-anchor=\"middle\" y=\"397.0\">\n",
       "    <tspan class=\"displacy-word\" fill=\"currentColor\" x=\"2325\">friends.</tspan>\n",
       "    <tspan class=\"displacy-tag\" dy=\"2em\" fill=\"currentColor\" x=\"2325\">NOUN</tspan>\n",
       "</text>\n",
       "\n",
       "<g class=\"displacy-arrow\">\n",
       "    <path class=\"displacy-arc\" id=\"arrow-2ad49f1dcef74337b07bcea4dd700fda-0-0\" stroke-width=\"2px\" d=\"M70,352.0 C70,177.0 390.0,177.0 390.0,352.0\" fill=\"none\" stroke=\"currentColor\"/>\n",
       "    <text dy=\"1.25em\" style=\"font-size: 0.8em; letter-spacing: 1px\">\n",
       "        <textPath xlink:href=\"#arrow-2ad49f1dcef74337b07bcea4dd700fda-0-0\" class=\"displacy-label\" startOffset=\"50%\" side=\"left\" fill=\"currentColor\" text-anchor=\"middle\">nsubj</textPath>\n",
       "    </text>\n",
       "    <path class=\"displacy-arrowhead\" d=\"M70,354.0 L62,342.0 78,342.0\" fill=\"currentColor\"/>\n",
       "</g>\n",
       "\n",
       "<g class=\"displacy-arrow\">\n",
       "    <path class=\"displacy-arc\" id=\"arrow-2ad49f1dcef74337b07bcea4dd700fda-0-1\" stroke-width=\"2px\" d=\"M245,352.0 C245,264.5 385.0,264.5 385.0,352.0\" fill=\"none\" stroke=\"currentColor\"/>\n",
       "    <text dy=\"1.25em\" style=\"font-size: 0.8em; letter-spacing: 1px\">\n",
       "        <textPath xlink:href=\"#arrow-2ad49f1dcef74337b07bcea4dd700fda-0-1\" class=\"displacy-label\" startOffset=\"50%\" side=\"left\" fill=\"currentColor\" text-anchor=\"middle\">aux</textPath>\n",
       "    </text>\n",
       "    <path class=\"displacy-arrowhead\" d=\"M245,354.0 L237,342.0 253,342.0\" fill=\"currentColor\"/>\n",
       "</g>\n",
       "\n",
       "<g class=\"displacy-arrow\">\n",
       "    <path class=\"displacy-arc\" id=\"arrow-2ad49f1dcef74337b07bcea4dd700fda-0-2\" stroke-width=\"2px\" d=\"M420,352.0 C420,264.5 560.0,264.5 560.0,352.0\" fill=\"none\" stroke=\"currentColor\"/>\n",
       "    <text dy=\"1.25em\" style=\"font-size: 0.8em; letter-spacing: 1px\">\n",
       "        <textPath xlink:href=\"#arrow-2ad49f1dcef74337b07bcea4dd700fda-0-2\" class=\"displacy-label\" startOffset=\"50%\" side=\"left\" fill=\"currentColor\" text-anchor=\"middle\">prt</textPath>\n",
       "    </text>\n",
       "    <path class=\"displacy-arrowhead\" d=\"M560.0,354.0 L568.0,342.0 552.0,342.0\" fill=\"currentColor\"/>\n",
       "</g>\n",
       "\n",
       "<g class=\"displacy-arrow\">\n",
       "    <path class=\"displacy-arc\" id=\"arrow-2ad49f1dcef74337b07bcea4dd700fda-0-3\" stroke-width=\"2px\" d=\"M420,352.0 C420,177.0 740.0,177.0 740.0,352.0\" fill=\"none\" stroke=\"currentColor\"/>\n",
       "    <text dy=\"1.25em\" style=\"font-size: 0.8em; letter-spacing: 1px\">\n",
       "        <textPath xlink:href=\"#arrow-2ad49f1dcef74337b07bcea4dd700fda-0-3\" class=\"displacy-label\" startOffset=\"50%\" side=\"left\" fill=\"currentColor\" text-anchor=\"middle\">advmod</textPath>\n",
       "    </text>\n",
       "    <path class=\"displacy-arrowhead\" d=\"M740.0,354.0 L748.0,342.0 732.0,342.0\" fill=\"currentColor\"/>\n",
       "</g>\n",
       "\n",
       "<g class=\"displacy-arrow\">\n",
       "    <path class=\"displacy-arc\" id=\"arrow-2ad49f1dcef74337b07bcea4dd700fda-0-4\" stroke-width=\"2px\" d=\"M945,352.0 C945,177.0 1265.0,177.0 1265.0,352.0\" fill=\"none\" stroke=\"currentColor\"/>\n",
       "    <text dy=\"1.25em\" style=\"font-size: 0.8em; letter-spacing: 1px\">\n",
       "        <textPath xlink:href=\"#arrow-2ad49f1dcef74337b07bcea4dd700fda-0-4\" class=\"displacy-label\" startOffset=\"50%\" side=\"left\" fill=\"currentColor\" text-anchor=\"middle\">nsubj</textPath>\n",
       "    </text>\n",
       "    <path class=\"displacy-arrowhead\" d=\"M945,354.0 L937,342.0 953,342.0\" fill=\"currentColor\"/>\n",
       "</g>\n",
       "\n",
       "<g class=\"displacy-arrow\">\n",
       "    <path class=\"displacy-arc\" id=\"arrow-2ad49f1dcef74337b07bcea4dd700fda-0-5\" stroke-width=\"2px\" d=\"M1120,352.0 C1120,264.5 1260.0,264.5 1260.0,352.0\" fill=\"none\" stroke=\"currentColor\"/>\n",
       "    <text dy=\"1.25em\" style=\"font-size: 0.8em; letter-spacing: 1px\">\n",
       "        <textPath xlink:href=\"#arrow-2ad49f1dcef74337b07bcea4dd700fda-0-5\" class=\"displacy-label\" startOffset=\"50%\" side=\"left\" fill=\"currentColor\" text-anchor=\"middle\">aux</textPath>\n",
       "    </text>\n",
       "    <path class=\"displacy-arrowhead\" d=\"M1120,354.0 L1112,342.0 1128,342.0\" fill=\"currentColor\"/>\n",
       "</g>\n",
       "\n",
       "<g class=\"displacy-arrow\">\n",
       "    <path class=\"displacy-arc\" id=\"arrow-2ad49f1dcef74337b07bcea4dd700fda-0-6\" stroke-width=\"2px\" d=\"M420,352.0 C420,2.0 1275.0,2.0 1275.0,352.0\" fill=\"none\" stroke=\"currentColor\"/>\n",
       "    <text dy=\"1.25em\" style=\"font-size: 0.8em; letter-spacing: 1px\">\n",
       "        <textPath xlink:href=\"#arrow-2ad49f1dcef74337b07bcea4dd700fda-0-6\" class=\"displacy-label\" startOffset=\"50%\" side=\"left\" fill=\"currentColor\" text-anchor=\"middle\">ccomp</textPath>\n",
       "    </text>\n",
       "    <path class=\"displacy-arrowhead\" d=\"M1275.0,354.0 L1283.0,342.0 1267.0,342.0\" fill=\"currentColor\"/>\n",
       "</g>\n",
       "\n",
       "<g class=\"displacy-arrow\">\n",
       "    <path class=\"displacy-arc\" id=\"arrow-2ad49f1dcef74337b07bcea4dd700fda-0-7\" stroke-width=\"2px\" d=\"M1295,352.0 C1295,264.5 1435.0,264.5 1435.0,352.0\" fill=\"none\" stroke=\"currentColor\"/>\n",
       "    <text dy=\"1.25em\" style=\"font-size: 0.8em; letter-spacing: 1px\">\n",
       "        <textPath xlink:href=\"#arrow-2ad49f1dcef74337b07bcea4dd700fda-0-7\" class=\"displacy-label\" startOffset=\"50%\" side=\"left\" fill=\"currentColor\" text-anchor=\"middle\">dobj</textPath>\n",
       "    </text>\n",
       "    <path class=\"displacy-arrowhead\" d=\"M1435.0,354.0 L1443.0,342.0 1427.0,342.0\" fill=\"currentColor\"/>\n",
       "</g>\n",
       "\n",
       "<g class=\"displacy-arrow\">\n",
       "    <path class=\"displacy-arc\" id=\"arrow-2ad49f1dcef74337b07bcea4dd700fda-0-8\" stroke-width=\"2px\" d=\"M1645,352.0 C1645,177.0 1965.0,177.0 1965.0,352.0\" fill=\"none\" stroke=\"currentColor\"/>\n",
       "    <text dy=\"1.25em\" style=\"font-size: 0.8em; letter-spacing: 1px\">\n",
       "        <textPath xlink:href=\"#arrow-2ad49f1dcef74337b07bcea4dd700fda-0-8\" class=\"displacy-label\" startOffset=\"50%\" side=\"left\" fill=\"currentColor\" text-anchor=\"middle\">nsubj</textPath>\n",
       "    </text>\n",
       "    <path class=\"displacy-arrowhead\" d=\"M1645,354.0 L1637,342.0 1653,342.0\" fill=\"currentColor\"/>\n",
       "</g>\n",
       "\n",
       "<g class=\"displacy-arrow\">\n",
       "    <path class=\"displacy-arc\" id=\"arrow-2ad49f1dcef74337b07bcea4dd700fda-0-9\" stroke-width=\"2px\" d=\"M1820,352.0 C1820,264.5 1960.0,264.5 1960.0,352.0\" fill=\"none\" stroke=\"currentColor\"/>\n",
       "    <text dy=\"1.25em\" style=\"font-size: 0.8em; letter-spacing: 1px\">\n",
       "        <textPath xlink:href=\"#arrow-2ad49f1dcef74337b07bcea4dd700fda-0-9\" class=\"displacy-label\" startOffset=\"50%\" side=\"left\" fill=\"currentColor\" text-anchor=\"middle\">aux</textPath>\n",
       "    </text>\n",
       "    <path class=\"displacy-arrowhead\" d=\"M1820,354.0 L1812,342.0 1828,342.0\" fill=\"currentColor\"/>\n",
       "</g>\n",
       "\n",
       "<g class=\"displacy-arrow\">\n",
       "    <path class=\"displacy-arc\" id=\"arrow-2ad49f1dcef74337b07bcea4dd700fda-0-10\" stroke-width=\"2px\" d=\"M1295,352.0 C1295,89.5 1970.0,89.5 1970.0,352.0\" fill=\"none\" stroke=\"currentColor\"/>\n",
       "    <text dy=\"1.25em\" style=\"font-size: 0.8em; letter-spacing: 1px\">\n",
       "        <textPath xlink:href=\"#arrow-2ad49f1dcef74337b07bcea4dd700fda-0-10\" class=\"displacy-label\" startOffset=\"50%\" side=\"left\" fill=\"currentColor\" text-anchor=\"middle\">ccomp</textPath>\n",
       "    </text>\n",
       "    <path class=\"displacy-arrowhead\" d=\"M1970.0,354.0 L1978.0,342.0 1962.0,342.0\" fill=\"currentColor\"/>\n",
       "</g>\n",
       "\n",
       "<g class=\"displacy-arrow\">\n",
       "    <path class=\"displacy-arc\" id=\"arrow-2ad49f1dcef74337b07bcea4dd700fda-0-11\" stroke-width=\"2px\" d=\"M2170,352.0 C2170,264.5 2310.0,264.5 2310.0,352.0\" fill=\"none\" stroke=\"currentColor\"/>\n",
       "    <text dy=\"1.25em\" style=\"font-size: 0.8em; letter-spacing: 1px\">\n",
       "        <textPath xlink:href=\"#arrow-2ad49f1dcef74337b07bcea4dd700fda-0-11\" class=\"displacy-label\" startOffset=\"50%\" side=\"left\" fill=\"currentColor\" text-anchor=\"middle\">det</textPath>\n",
       "    </text>\n",
       "    <path class=\"displacy-arrowhead\" d=\"M2170,354.0 L2162,342.0 2178,342.0\" fill=\"currentColor\"/>\n",
       "</g>\n",
       "\n",
       "<g class=\"displacy-arrow\">\n",
       "    <path class=\"displacy-arc\" id=\"arrow-2ad49f1dcef74337b07bcea4dd700fda-0-12\" stroke-width=\"2px\" d=\"M1995,352.0 C1995,177.0 2315.0,177.0 2315.0,352.0\" fill=\"none\" stroke=\"currentColor\"/>\n",
       "    <text dy=\"1.25em\" style=\"font-size: 0.8em; letter-spacing: 1px\">\n",
       "        <textPath xlink:href=\"#arrow-2ad49f1dcef74337b07bcea4dd700fda-0-12\" class=\"displacy-label\" startOffset=\"50%\" side=\"left\" fill=\"currentColor\" text-anchor=\"middle\">dobj</textPath>\n",
       "    </text>\n",
       "    <path class=\"displacy-arrowhead\" d=\"M2315.0,354.0 L2323.0,342.0 2307.0,342.0\" fill=\"currentColor\"/>\n",
       "</g>\n",
       "</svg>"
      ],
      "text/plain": [
       "<IPython.core.display.HTML object>"
      ]
     },
     "metadata": {},
     "output_type": "display_data"
    }
   ],
   "source": [
    "sent = next(islice(new_text_tokened.doc.sents, 2, 2+1))\n",
    "displacy.render(sent, style=\"dep\")"
   ]
  },
  {
   "cell_type": "markdown",
   "metadata": {},
   "source": [
    "## Simple sentences are better: remove clauses"
   ]
  },
  {
   "cell_type": "code",
   "execution_count": 52,
   "metadata": {},
   "outputs": [
    {
     "name": "stdout",
     "output_type": "stream",
     "text": [
      "We nsubj come VERB []\n",
      "have aux come VERB []\n",
      "come ROOT come VERB [We, have, out, well, see, .]\n",
      "out prt come VERB []\n",
      "well advmod come VERB []\n",
      "me nsubj see VERB []\n",
      "to aux see VERB []\n",
      "see ccomp come VERB [me, to, it, spare]\n",
      "it dobj see VERB []\n",
      "he nsubj spare VERB []\n",
      "would aux spare VERB []\n",
      "spare ccomp see VERB [he, would, friends]\n",
      "the det friends NOUN []\n",
      "friends dobj spare VERB [the]\n",
      ". punct come VERB []\n"
     ]
    }
   ],
   "source": [
    "for token in sent:\n",
    "    print(token.text, token.dep_, token.head.text, token.head.pos_,\n",
    "            [child for child in token.children])"
   ]
  },
  {
   "cell_type": "markdown",
   "metadata": {},
   "source": [
    "### if a child token becomes parent, drop that part"
   ]
  },
  {
   "cell_type": "code",
   "execution_count": 81,
   "metadata": {},
   "outputs": [
    {
     "name": "stdout",
     "output_type": "stream",
     "text": [
      "We nsubj come VERB []\n",
      "have aux come VERB []\n",
      "come ROOT come VERB [We, have, out, well, see, .]\n",
      "out prt come VERB []\n",
      "well advmod come VERB []\n",
      "----------------------\n"
     ]
    }
   ],
   "source": [
    "new_text2 = ''\n",
    "children_set = set()\n",
    "for token in sent:\n",
    "    try:\n",
    "        first_item = next(token.children)  \n",
    "        children_set.update([child.text for child in token.children]) \n",
    "        children_set.update([token.text]) \n",
    "        break\n",
    "    except StopIteration:\n",
    "        pass\n",
    "for token in sent:\n",
    "    if token.text not in children_set:\n",
    "        print('----------------------')\n",
    "        break\n",
    "    new_text2 += (' ' +token.text)\n",
    "    print(token.text, token.dep_, token.head.text, token.head.pos_,\n",
    "            [child for child in token.children])\n",
    "new_text2 += '. '"
   ]
  },
  {
   "cell_type": "code",
   "execution_count": 82,
   "metadata": {},
   "outputs": [
    {
     "data": {
      "text/plain": [
       "' We have come out well. '"
      ]
     },
     "execution_count": 82,
     "metadata": {},
     "output_type": "execute_result"
    }
   ],
   "source": [
    "new_text2"
   ]
  },
  {
   "cell_type": "code",
   "execution_count": 65,
   "metadata": {},
   "outputs": [
    {
     "ename": "TypeError",
     "evalue": "Argument 'other' has incorrect type (expected spacy.tokens.token.Token, got type)",
     "output_type": "error",
     "traceback": [
      "\u001b[1;31m---------------------------------------------------------------------------\u001b[0m",
      "\u001b[1;31mTypeError\u001b[0m                                 Traceback (most recent call last)",
      "\u001b[1;32m<ipython-input-65-d3d04ad27571>\u001b[0m in \u001b[0;36m<module>\u001b[1;34m\u001b[0m\n\u001b[1;32m----> 1\u001b[1;33m \u001b[0mtype\u001b[0m\u001b[1;33m(\u001b[0m\u001b[0mtoken\u001b[0m\u001b[1;33m.\u001b[0m\u001b[0mtext\u001b[0m\u001b[1;33m)\u001b[0m \u001b[1;32min\u001b[0m \u001b[0mlist\u001b[0m\u001b[1;33m(\u001b[0m\u001b[0mchildren_set\u001b[0m\u001b[1;33m)\u001b[0m\u001b[1;33m\u001b[0m\u001b[1;33m\u001b[0m\u001b[0m\n\u001b[0m",
      "\u001b[1;31mTypeError\u001b[0m: Argument 'other' has incorrect type (expected spacy.tokens.token.Token, got type)"
     ]
    }
   ],
   "source": [
    "type(token.text) in list(children_set)"
   ]
  },
  {
   "cell_type": "code",
   "execution_count": 67,
   "metadata": {},
   "outputs": [
    {
     "data": {
      "text/plain": [
       "spacy.tokens.token.Token"
      ]
     },
     "execution_count": 67,
     "metadata": {},
     "output_type": "execute_result"
    }
   ],
   "source": [
    "type(list(children_set)[0])"
   ]
  },
  {
   "cell_type": "markdown",
   "metadata": {},
   "source": [
    "# Answer questions"
   ]
  },
  {
   "cell_type": "code",
   "execution_count": null,
   "metadata": {},
   "outputs": [],
   "source": [
    "questions = [\"What have you done?\",\n",
    "          'Who are you?'\n",
    "          ,'Where are you from?'\n",
    "          ,'Why is it dark?'\n",
    "          ,'Why are you sad?'\n",
    "          ,'When is it too late?'\n",
    "          ,'What is the purpose?'\n",
    "         ,'Are we there yet?'\n",
    "         ,'What do you do?'\n",
    "         ,'How are you?'\n",
    "         ]\n",
    "\n"
   ]
  },
  {
   "cell_type": "code",
   "execution_count": null,
   "metadata": {},
   "outputs": [],
   "source": [
    "replacements = {'How':'desperately','is':'is','Why':'Because', }"
   ]
  },
  {
   "cell_type": "code",
   "execution_count": null,
   "metadata": {},
   "outputs": [],
   "source": []
  },
  {
   "cell_type": "code",
   "execution_count": null,
   "metadata": {},
   "outputs": [],
   "source": []
  },
  {
   "cell_type": "code",
   "execution_count": null,
   "metadata": {},
   "outputs": [],
   "source": []
  },
  {
   "cell_type": "code",
   "execution_count": null,
   "metadata": {},
   "outputs": [],
   "source": []
  },
  {
   "cell_type": "code",
   "execution_count": null,
   "metadata": {},
   "outputs": [],
   "source": []
  },
  {
   "cell_type": "code",
   "execution_count": null,
   "metadata": {},
   "outputs": [],
   "source": []
  },
  {
   "cell_type": "code",
   "execution_count": null,
   "metadata": {},
   "outputs": [],
   "source": []
  },
  {
   "cell_type": "code",
   "execution_count": null,
   "metadata": {},
   "outputs": [],
   "source": []
  }
 ],
 "metadata": {
  "kernelspec": {
   "display_name": "Python 3",
   "language": "python",
   "name": "python3"
  },
  "language_info": {
   "codemirror_mode": {
    "name": "ipython",
    "version": 3
   },
   "file_extension": ".py",
   "mimetype": "text/x-python",
   "name": "python",
   "nbconvert_exporter": "python",
   "pygments_lexer": "ipython3",
   "version": "3.7.3"
  }
 },
 "nbformat": 4,
 "nbformat_minor": 2
}
